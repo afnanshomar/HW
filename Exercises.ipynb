{
 "cells": [
  {
   "cell_type": "markdown",
   "id": "531ed0e3-062b-4f63-895d-88862814f4b0",
   "metadata": {},
   "source": [
    "Creating Lists"
   ]
  },
  {
   "cell_type": "code",
   "execution_count": 228,
   "id": "7ed6c97d-434b-4f67-a758-14cf6629b8d7",
   "metadata": {},
   "outputs": [
    {
     "name": "stdout",
     "output_type": "stream",
     "text": [
      "100\n"
     ]
    }
   ],
   "source": [
    "a=100\n",
    "print(a)"
   ]
  },
  {
   "cell_type": "code",
   "execution_count": 242,
   "id": "179eaefc-2374-4196-88e3-7a2497ca3fd9",
   "metadata": {},
   "outputs": [
    {
     "name": "stdout",
     "output_type": "stream",
     "text": [
      "<class 'int'>\n",
      "[3]\n"
     ]
    }
   ],
   "source": [
    "print(type(a))\n",
    "list4=list()\n",
    "list4.append(3)\n",
    "print(list4)"
   ]
  },
  {
   "cell_type": "code",
   "execution_count": 240,
   "id": "9710a647-3793-4fd0-a040-84750427a1e3",
   "metadata": {
    "scrolled": true
   },
   "outputs": [
    {
     "data": {
      "text/plain": [
       "list"
      ]
     },
     "execution_count": 240,
     "metadata": {},
     "output_type": "execute_result"
    }
   ],
   "source": [
    "list_example=[2,3,4,5]\n",
    "type(list_example)"
   ]
  },
  {
   "cell_type": "code",
   "execution_count": 62,
   "id": "ee6b483e-857e-4863-a529-837d81677103",
   "metadata": {},
   "outputs": [
    {
     "name": "stdout",
     "output_type": "stream",
     "text": [
      "[2, 3, 4, 5, 7]\n"
     ]
    }
   ],
   "source": [
    "print(list_example)"
   ]
  },
  {
   "cell_type": "markdown",
   "id": "27971094-06f9-42fe-9f8c-394d04abae1c",
   "metadata": {},
   "source": [
    "Differences between insert and append :\n",
    "append:just add to the end of list\n",
    "insert you can add in any place if you know the index"
   ]
  },
  {
   "cell_type": "code",
   "execution_count": 61,
   "id": "c80fb0a0-7aee-407b-af69-e0ce9373245a",
   "metadata": {},
   "outputs": [],
   "source": [
    "list_example.append(7)"
   ]
  },
  {
   "cell_type": "code",
   "execution_count": 220,
   "id": "6c30a5ad-10dd-415d-bf00-35184b15e7e9",
   "metadata": {},
   "outputs": [
    {
     "name": "stdout",
     "output_type": "stream",
     "text": [
      "[3, 10, 4, 5, 6]\n"
     ]
    }
   ],
   "source": [
    "list3=[3,4,5,6]\n",
    "list3.insert(1,10)\n",
    "print(list3)"
   ]
  },
  {
   "cell_type": "code",
   "execution_count": 78,
   "id": "b82935f3-c97f-4d22-b714-1f257c718ac2",
   "metadata": {},
   "outputs": [
    {
     "name": "stdout",
     "output_type": "stream",
     "text": [
      "1\n",
      "2\n",
      "3\n",
      "4\n",
      "5\n",
      "6\n"
     ]
    }
   ],
   "source": [
    "list1=[1,2,3,4,5,6]\n",
    "for item in list1:\n",
    "    print (item)"
   ]
  },
  {
   "cell_type": "markdown",
   "id": "a7ac7044-14a6-44a2-955b-20321e7c5140",
   "metadata": {},
   "source": [
    "Slicing"
   ]
  },
  {
   "cell_type": "code",
   "execution_count": 88,
   "id": "05b31409-018f-46ac-8c0c-562e5a70ceee",
   "metadata": {},
   "outputs": [
    {
     "name": "stdout",
     "output_type": "stream",
     "text": [
      "[3, 4, 5]\n"
     ]
    }
   ],
   "source": [
    "list2=[3,4,5,6,7]\n",
    "print(list2[:3])"
   ]
  },
  {
   "cell_type": "code",
   "execution_count": 105,
   "id": "563a2c8f-2a6d-4239-93a5-65a20851297a",
   "metadata": {},
   "outputs": [
    {
     "name": "stdout",
     "output_type": "stream",
     "text": [
      "152 bytes\n",
      "72 bytes\n"
     ]
    }
   ],
   "source": [
    "#compare the size between tuple vs list\n",
    "import sys \n",
    "mylist=[5,55,6,7,8,9,0,2,3,4,5]\n",
    "mytuple=(2,'afnan',3,5)\n",
    "print(sys.getsizeof(mylist),'bytes')\n",
    "print(sys.getsizeof(mytuple),'bytes')\n"
   ]
  },
  {
   "cell_type": "markdown",
   "id": "c38f2b91-6e21-4ba7-842e-089069b11e49",
   "metadata": {},
   "source": [
    "Filter Function:\n",
    "Define list with the following elements [ 1, 2, 3, 4, 5, 6, 7, 8, 9, 10, 11, 12 ]\n",
    "Slice your list and print the last 3 elements\n",
    "apply filter built in function to generate new list with numbers less that 10"
   ]
  },
  {
   "cell_type": "code",
   "execution_count": 109,
   "id": "38d5390d-ee45-44ed-bcaa-c078b7afb90f",
   "metadata": {},
   "outputs": [
    {
     "name": "stdout",
     "output_type": "stream",
     "text": [
      "[10, 11, 12]\n"
     ]
    }
   ],
   "source": [
    "a=[ 1, 2, 3, 4, 5, 6, 7, 8, 9, 10, 11, 12 ]\n",
    "print(a[-3:])"
   ]
  },
  {
   "cell_type": "code",
   "execution_count": 115,
   "id": "cc202cf3-0d14-448f-a282-7b0acbd459ec",
   "metadata": {},
   "outputs": [
    {
     "name": "stdout",
     "output_type": "stream",
     "text": [
      "[1, 2, 3, 4, 5, 6, 7, 8, 9]\n"
     ]
    }
   ],
   "source": [
    "def less(n):\n",
    "    return n<10\n",
    "b = filter(less, a)\n",
    "print(list(b))  "
   ]
  },
  {
   "cell_type": "markdown",
   "id": "4b7ea064-4a8e-41fc-9a06-80314afe253a",
   "metadata": {},
   "source": [
    "List Comprehensions:\n",
    "Define list with the following elements [ 1, 2, 3, 4, 5, 6, 7, 8, 9, 10, 11, 12 ] (same as\n",
    "above)\n",
    "Use list comprehensions generate new list with number less than 10 (same as\n",
    "above)\n"
   ]
  },
  {
   "cell_type": "code",
   "execution_count": 122,
   "id": "6f5387a1-40b8-4734-b055-1b6b8f4f9788",
   "metadata": {},
   "outputs": [
    {
     "name": "stdout",
     "output_type": "stream",
     "text": [
      "[1, 2, 3, 4, 5, 6, 7, 8, 9]\n"
     ]
    }
   ],
   "source": [
    "a=[ 1, 2, 3, 4, 5, 6, 7, 8, 9, 10, 11, 12 ]\n",
    "newlist = [value for value in a if value < 10]\n",
    "print(newlist)\n"
   ]
  },
  {
   "cell_type": "markdown",
   "id": "a4c3c31f-789c-4516-b16f-093062a99cc3",
   "metadata": {},
   "source": [
    "Map() Function\n",
    "Define list named test_list with these elements [1,2,3,4,5]\n",
    "Using map function change list’s element to be squared numbers, means you list\n",
    "should be [1,4,9,16,25]"
   ]
  },
  {
   "cell_type": "code",
   "execution_count": 140,
   "id": "b5776b34-8ea1-49ba-af3a-faa8f40bbb45",
   "metadata": {},
   "outputs": [
    {
     "name": "stdout",
     "output_type": "stream",
     "text": [
      "[1, 4, 9, 16, 25]\n"
     ]
    }
   ],
   "source": [
    "test_list=[1,2,3,4,5]\n",
    "def double(val):\n",
    "  return val*val\n",
    "res = list(map(double, test_list))\n",
    "print(res)\n",
    "    "
   ]
  },
  {
   "cell_type": "markdown",
   "id": "3a3fb376-da39-4965-a02f-efc21a7ba074",
   "metadata": {},
   "source": [
    "Combining Lists with the Zip() Function\n",
    "Define new lists which are: numbers=[1,2,3], chars=[’a’,’b’,’b’]\n",
    "Using zip function combine two lists with new list called merged_list"
   ]
  },
  {
   "cell_type": "code",
   "execution_count": 159,
   "id": "2e3a305f-98e6-43a6-921f-3accd44b54d9",
   "metadata": {},
   "outputs": [
    {
     "name": "stdout",
     "output_type": "stream",
     "text": [
      "[(1, 'a'), (2, 'b'), (3, 'b')]\n"
     ]
    }
   ],
   "source": [
    "numbers = [1, 2, 3]\n",
    "chars = ['a', 'b', 'b']\n",
    "merged_list = zip(numbers, chars)\n",
    "print(list(merged_list))\n"
   ]
  },
  {
   "cell_type": "markdown",
   "id": "444a5a2b-a0b4-4bd4-9d6f-41cf4245bd4e",
   "metadata": {},
   "source": [
    "Finding the Most Common Item in a List\n",
    "Define list with elements [’name’,’name’,’age’,’city’]\n",
    "Have new set from our above list\n",
    "Use max function to get the most common element"
   ]
  },
  {
   "cell_type": "code",
   "execution_count": 188,
   "id": "bf5ce0aa-5ca6-4652-ac95-77ee083e1b83",
   "metadata": {},
   "outputs": [
    {
     "name": "stdout",
     "output_type": "stream",
     "text": [
      "Set is : {'city', 'name', 'age'}\n",
      "Most common element: name\n"
     ]
    }
   ],
   "source": [
    "DB = ['name', 'name', 'age', 'city']\n",
    "DB1 = set(DB)\n",
    "most_common = max(DB1, key=DB.count)\n",
    "print(\"Set is :\", DB1)\n",
    "print(\"Most common element:\", most_common)\n"
   ]
  },
  {
   "cell_type": "code",
   "execution_count": 190,
   "id": "0e01bf7a-9622-4d02-8612-151d7b622e48",
   "metadata": {},
   "outputs": [
    {
     "name": "stdout",
     "output_type": "stream",
     "text": [
      "5\n",
      "2\n",
      "3\n",
      "('a', 'b', 'a', 'b', 'a', 'b', 'a', 'b', 'a', 'b')\n",
      "(1, 2, 3, 4, 5, 6)\n",
      "('a', 'b', 'c', 'd')\n",
      "['a', 'b', 'c', 'd']\n",
      "('A', 'f', 'n', 'a', 'n')\n"
     ]
    }
   ],
   "source": [
    "my_tuple = ('a','p','p','l','e',)\n",
    "# len() : get the number of elements\n",
    "print(len(my_tuple))\n",
    "# count(x) : Return the number of items that is equal to x\n",
    "print(my_tuple.count('p'))\n",
    "# index(x) : Return index of first item that is equal to x\n",
    "print(my_tuple.index('l'))\n",
    "# repetition\n",
    "my_tuple = ('a', 'b') * 5\n",
    "print(my_tuple)\n",
    "# concatenation\n",
    "my_tuple = (1,2,3) + (4,5,6)\n",
    "print(my_tuple)\n",
    "# convert list to a tuple and vice versa\n",
    "my_list = ['a', 'b', 'c', 'd']\n",
    "list_to_tuple = tuple(my_list)\n",
    "print(list_to_tuple)\n",
    "tuple_to_list = list(list_to_tuple)\n",
    "print(tuple_to_list)\n",
    "# convert string to tuple\n",
    "string_to_tuple = tuple('Afnan')\n",
    "print(string_to_tuple)"
   ]
  },
  {
   "cell_type": "markdown",
   "id": "f68170c9-53e9-4669-9a1d-f233e96be58a",
   "metadata": {
    "editable": true,
    "slideshow": {
     "slide_type": ""
    },
    "tags": []
   },
   "source": [
    "Dictionaries: unordered, changeable and indexed."
   ]
  },
  {
   "cell_type": "code",
   "execution_count": 197,
   "id": "296f974d-d312-4f07-b313-fbb722fb0ed5",
   "metadata": {},
   "outputs": [
    {
     "data": {
      "text/plain": [
       "5"
      ]
     },
     "execution_count": 197,
     "metadata": {},
     "output_type": "execute_result"
    }
   ],
   "source": [
    "states = {\n",
    "    'City1': 'C1',\n",
    "    'City2': 'C2',\n",
    "    'City3': 'C3',\n",
    "    'City4': 'C4',\n",
    "    'City5': 'C5'\n",
    "}\n",
    "\n",
    "len(states)\n",
    "\n"
   ]
  },
  {
   "cell_type": "code",
   "execution_count": 201,
   "id": "9101bda0-0253-479b-beea-89e89c584a26",
   "metadata": {},
   "outputs": [
    {
     "data": {
      "text/plain": [
       "{'C1': 'CityEx1', 'C2': 'CityEx2', 'C3': 'CityEx3'}"
      ]
     },
     "execution_count": 201,
     "metadata": {},
     "output_type": "execute_result"
    }
   ],
   "source": [
    "cities ={\n",
    "    'C1':'CityEx1',\n",
    "    'C2':'CityEx2',\n",
    "    'C3':'CityEx3'\n",
    "}\n",
    "cities\n",
    "    "
   ]
  },
  {
   "cell_type": "code",
   "execution_count": 203,
   "id": "8aacd5af-5687-4258-a221-7ddb56346343",
   "metadata": {},
   "outputs": [
    {
     "data": {
      "text/plain": [
       "{'C1': 'CityEx1',\n",
       " 'C2': 'CityEx2',\n",
       " 'C3': 'CityEx3',\n",
       " 'C4': 'CityEx4',\n",
       " 'C5': 'CityEx5'}"
      ]
     },
     "execution_count": 203,
     "metadata": {},
     "output_type": "execute_result"
    }
   ],
   "source": [
    "cities['C4']='CityEx4'\n",
    "cities['C5']='CityEx5'\n",
    "cities"
   ]
  },
  {
   "cell_type": "code",
   "execution_count": 209,
   "id": "1c9aa90b-6193-4b69-9e1c-7d5508ebfd1b",
   "metadata": {},
   "outputs": [
    {
     "name": "stdout",
     "output_type": "stream",
     "text": [
      "----------\n",
      "C1 state has City : CityEx1\n",
      "C2 state has City : CityEx2\n"
     ]
    }
   ],
   "source": [
    "print('-'*10)\n",
    "print('C1 state has City :',cities['C1'])\n",
    "print('C2 state has City :',cities['C2'])"
   ]
  },
  {
   "cell_type": "code",
   "execution_count": 213,
   "id": "01d776a8-bffc-4e5d-a070-e43f987f6a21",
   "metadata": {},
   "outputs": [
    {
     "name": "stdout",
     "output_type": "stream",
     "text": [
      "City1 has : CityEx1\n",
      "City2 has : CityEx2\n"
     ]
    }
   ],
   "source": [
    "print('City1 has :',cities[states['City1']])\n",
    "print('City2 has :',cities[states['City2']])"
   ]
  },
  {
   "cell_type": "code",
   "execution_count": null,
   "id": "1101b1a5-f488-4777-9707-ab024a5b4995",
   "metadata": {},
   "outputs": [],
   "source": []
  },
  {
   "cell_type": "code",
   "execution_count": null,
   "id": "af4054fd-a29a-4503-91d2-8b038143872c",
   "metadata": {},
   "outputs": [],
   "source": []
  }
 ],
 "metadata": {
  "kernelspec": {
   "display_name": "Python [conda env:base] *",
   "language": "python",
   "name": "conda-base-py"
  },
  "language_info": {
   "codemirror_mode": {
    "name": "ipython",
    "version": 3
   },
   "file_extension": ".py",
   "mimetype": "text/x-python",
   "name": "python",
   "nbconvert_exporter": "python",
   "pygments_lexer": "ipython3",
   "version": "3.12.7"
  }
 },
 "nbformat": 4,
 "nbformat_minor": 5
}
